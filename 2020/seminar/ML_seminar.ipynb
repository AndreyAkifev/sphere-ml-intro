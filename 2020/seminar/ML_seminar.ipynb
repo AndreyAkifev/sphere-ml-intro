{
 "cells": [
  {
   "cell_type": "markdown",
   "metadata": {
    "toc": true
   },
   "source": [
    "<h1>Table of Contents<span class=\"tocSkip\"></span></h1>\n",
    "<div class=\"toc\"><ul class=\"toc-item\"><li><span><a href=\"#Пожалуйста,-оставьте-оценку-и-отзыв-на-портале-🙏\" data-toc-modified-id=\"Пожалуйста,-оставьте-оценку-и-отзыв-на-портале-🙏-0\"><span class=\"toc-item-num\">0&nbsp;&nbsp;</span>Пожалуйста, оставьте оценку и отзыв на портале 🙏</a></span></li><li><span><a href=\"#Постановка-задачи\" data-toc-modified-id=\"Постановка-задачи-1\"><span class=\"toc-item-num\">1&nbsp;&nbsp;</span>Постановка задачи</a></span></li><li><span><a href=\"#Представление-данных\" data-toc-modified-id=\"Представление-данных-2\"><span class=\"toc-item-num\">2&nbsp;&nbsp;</span>Представление данных</a></span><ul class=\"toc-item\"><li><span><a href=\"#изображения\" data-toc-modified-id=\"изображения-2.1\"><span class=\"toc-item-num\">2.1&nbsp;&nbsp;</span>изображения</a></span><ul class=\"toc-item\"><li><span><a href=\"#Представление-изображения\" data-toc-modified-id=\"Представление-изображения-2.1.1\"><span class=\"toc-item-num\">2.1.1&nbsp;&nbsp;</span>Представление изображения</a></span></li><li><span><a href=\"#Работа-с-изображениями\" data-toc-modified-id=\"Работа-с-изображениями-2.1.2\"><span class=\"toc-item-num\">2.1.2&nbsp;&nbsp;</span>Работа с изображениями</a></span></li></ul></li><li><span><a href=\"#аудиозаписи\" data-toc-modified-id=\"аудиозаписи-2.2\"><span class=\"toc-item-num\">2.2&nbsp;&nbsp;</span>аудиозаписи</a></span><ul class=\"toc-item\"><li><span><a href=\"#Aliasing\" data-toc-modified-id=\"Aliasing-2.2.1\"><span class=\"toc-item-num\">2.2.1&nbsp;&nbsp;</span>Aliasing</a></span></li><li><span><a href=\"#Сигнал\" data-toc-modified-id=\"Сигнал-2.2.2\"><span class=\"toc-item-num\">2.2.2&nbsp;&nbsp;</span>Сигнал</a></span><ul class=\"toc-item\"><li><span><a href=\"#Воспроизвести\" data-toc-modified-id=\"Воспроизвести-2.2.2.1\"><span class=\"toc-item-num\">2.2.2.1&nbsp;&nbsp;</span>Воспроизвести</a></span></li><li><span><a href=\"#Визуализировать\" data-toc-modified-id=\"Визуализировать-2.2.2.2\"><span class=\"toc-item-num\">2.2.2.2&nbsp;&nbsp;</span>Визуализировать</a></span></li></ul></li><li><span><a href=\"#Спектр\" data-toc-modified-id=\"Спектр-2.2.3\"><span class=\"toc-item-num\">2.2.3&nbsp;&nbsp;</span>Спектр</a></span><ul class=\"toc-item\"><li><span><a href=\"#Преобразование-Фурье\" data-toc-modified-id=\"Преобразование-Фурье-2.2.3.1\"><span class=\"toc-item-num\">2.2.3.1&nbsp;&nbsp;</span>Преобразование Фурье</a></span></li><li><span><a href=\"#Спектральная-фильтрация\" data-toc-modified-id=\"Спектральная-фильтрация-2.2.3.2\"><span class=\"toc-item-num\">2.2.3.2&nbsp;&nbsp;</span>Спектральная фильтрация</a></span></li><li><span><a href=\"#Спектр-сигнала\" data-toc-modified-id=\"Спектр-сигнала-2.2.3.3\"><span class=\"toc-item-num\">2.2.3.3&nbsp;&nbsp;</span>Спектр сигнала</a></span></li><li><span><a href=\"#STFT:-Short-Time-Fourier-Transform\" data-toc-modified-id=\"STFT:-Short-Time-Fourier-Transform-2.2.3.4\"><span class=\"toc-item-num\">2.2.3.4&nbsp;&nbsp;</span>STFT: Short Time Fourier Transform</a></span></li></ul></li><li><span><a href=\"#MFCC\" data-toc-modified-id=\"MFCC-2.2.4\"><span class=\"toc-item-num\">2.2.4&nbsp;&nbsp;</span>MFCC</a></span><ul class=\"toc-item\"><li><span><a href=\"#Мел-шкала\" data-toc-modified-id=\"Мел-шкала-2.2.4.1\"><span class=\"toc-item-num\">2.2.4.1&nbsp;&nbsp;</span><a href=\"https://ru.wikipedia.org/wiki/%D0%9C%D0%B5%D0%BB_%28%D0%B2%D1%8B%D1%81%D0%BE%D1%82%D0%B0_%D0%B7%D0%B2%D1%83%D0%BA%D0%B0%29\" target=\"_blank\">Мел-шкала</a></a></span></li><li><span><a href=\"#Кепстр\" data-toc-modified-id=\"Кепстр-2.2.4.2\"><span class=\"toc-item-num\">2.2.4.2&nbsp;&nbsp;</span><a href=\"https://ru.wikipedia.org/wiki/%D0%9A%D0%B5%D0%BF%D1%81%D1%82%D1%80\" target=\"_blank\">Кепстр</a></a></span></li><li><span><a href=\"#Извлечение-MFCC\" data-toc-modified-id=\"Извлечение-MFCC-2.2.4.3\"><span class=\"toc-item-num\">2.2.4.3&nbsp;&nbsp;</span>Извлечение MFCC</a></span></li></ul></li></ul></li></ul></li><li><span><a href=\"#Метрика\" data-toc-modified-id=\"Метрика-3\"><span class=\"toc-item-num\">3&nbsp;&nbsp;</span>Метрика</a></span></li><li><span><a href=\"#Data-Explortaion\" data-toc-modified-id=\"Data-Explortaion-4\"><span class=\"toc-item-num\">4&nbsp;&nbsp;</span>Data Explortaion</a></span></li><li><span><a href=\"#Извлечение-признаков\" data-toc-modified-id=\"Извлечение-признаков-5\"><span class=\"toc-item-num\">5&nbsp;&nbsp;</span>Извлечение признаков</a></span></li><li><span><a href=\"#Преодбработка-данных\" data-toc-modified-id=\"Преодбработка-данных-6\"><span class=\"toc-item-num\">6&nbsp;&nbsp;</span>Преодбработка данных</a></span></li><li><span><a href=\"#Выбираем-модель\" data-toc-modified-id=\"Выбираем-модель-7\"><span class=\"toc-item-num\">7&nbsp;&nbsp;</span>Выбираем модель</a></span></li><li><span><a href=\"#Переосмысление-признаков\" data-toc-modified-id=\"Переосмысление-признаков-8\"><span class=\"toc-item-num\">8&nbsp;&nbsp;</span>Переосмысление признаков</a></span></li><li><span><a href=\"#Поиск-слабых-мест-модели\" data-toc-modified-id=\"Поиск-слабых-мест-модели-9\"><span class=\"toc-item-num\">9&nbsp;&nbsp;</span>Поиск слабых мест модели</a></span></li><li><span><a href=\"#Бонус-1:-quiz\" data-toc-modified-id=\"Бонус-1:-quiz-10\"><span class=\"toc-item-num\">10&nbsp;&nbsp;</span>Бонус-1: quiz</a></span></li><li><span><a href=\"#Бонус-2:-cool-story\" data-toc-modified-id=\"Бонус-2:-cool-story-11\"><span class=\"toc-item-num\">11&nbsp;&nbsp;</span>Бонус-2: cool story</a></span></li><li><span><a href=\"#Бонус-3:-Дополнительные-материалы\" data-toc-modified-id=\"Бонус-3:-Дополнительные-материалы-12\"><span class=\"toc-item-num\">12&nbsp;&nbsp;</span>Бонус-3: Дополнительные материалы</a></span></li><li><span><a href=\"#Бонус-4:-track\" data-toc-modified-id=\"Бонус-4:-track-13\"><span class=\"toc-item-num\">13&nbsp;&nbsp;</span>Бонус-4: track</a></span></li><li><span><a href=\"#Пожалуйста,-оставьте-оценку-и-отзыв-на-портале-🙏\" data-toc-modified-id=\"Пожалуйста,-оставьте-оценку-и-отзыв-на-портале-🙏-14\"><span class=\"toc-item-num\">14&nbsp;&nbsp;</span>Пожалуйста, оставьте оценку и отзыв на портале 🙏</a></span></li></ul></div>"
   ]
  },
  {
   "cell_type": "markdown",
   "metadata": {},
   "source": [
    "![alt text](./images/header.png)"
   ]
  },
  {
   "cell_type": "code",
   "execution_count": null,
   "metadata": {
    "ExecuteTime": {
     "end_time": "2020-11-24T12:32:09.633808Z",
     "start_time": "2020-11-24T12:32:07.030916Z"
    }
   },
   "outputs": [],
   "source": [
    "import os\n",
    "from datetime import datetime, timedelta\n",
    "\n",
    "import scipy\n",
    "import numpy as np\n",
    "import pandas as pd\n",
    "import matplotlib.pyplot as plt\n",
    "plt.style.use(\"ggplot\")\n",
    "import PIL\n",
    "import librosa\n",
    "import librosa.display\n",
    "from sklearn.model_selection import train_test_split\n",
    "from sklearn.ensemble import RandomForestClassifier\n",
    "from sklearn.metrics import confusion_matrix\n",
    "\n",
    "import IPython.display as ipd\n",
    "\n",
    "SEED = 42\n",
    "\n",
    "np.random.seed(SEED)"
   ]
  },
  {
   "cell_type": "markdown",
   "metadata": {},
   "source": [
    "# Пожалуйста, оставьте оценку и отзыв на портале 🙏"
   ]
  },
  {
   "cell_type": "code",
   "execution_count": null,
   "metadata": {
    "ExecuteTime": {
     "end_time": "2020-11-24T12:32:11.556414Z",
     "start_time": "2020-11-24T12:32:11.091757Z"
    }
   },
   "outputs": [],
   "source": [
    "DATE_FORMAT = \"%Y-%m-%d\"\n",
    "start_date = datetime.strptime(\"2020-09-29\", DATE_FORMAT) \n",
    "lecture_count = 8\n",
    "dates = [(start_date + timedelta(weeks=i)).strftime(DATE_FORMAT)\n",
    "         for i in range(lecture_count)]\n",
    "\n",
    "student_count = [45, 53, 38, 41, 41, 29, 35, 31]\n",
    "rating_count = [7, 6, 5, 6, 7, 1, 3, 1]\n",
    "review_count = [1, 2, 3, 3, 3, 0, 0, 0]\n",
    "\n",
    "plt.figure(figsize=(20,6))\n",
    "plt.subplot(131)\n",
    "plt.bar(dates, student_count)\n",
    "plt.xticks(rotation=90)\n",
    "plt.title(\"Количество слушателей\")\n",
    "plt.subplot(132)\n",
    "plt.bar(dates, rating_count)\n",
    "plt.xticks(rotation=90)\n",
    "plt.title(\"Количество оценок\")\n",
    "plt.subplot(133)\n",
    "plt.bar(dates, review_count)\n",
    "plt.xticks(rotation=90)\n",
    "plt.title(\"Количество отзывов\");"
   ]
  },
  {
   "cell_type": "markdown",
   "metadata": {
    "ExecuteTime": {
     "end_time": "2019-11-16T12:43:17.940911Z",
     "start_time": "2019-11-16T12:43:17.935554Z"
    }
   },
   "source": [
    "# Постановка задачи"
   ]
  },
  {
   "cell_type": "markdown",
   "metadata": {},
   "source": [
    "Для каждой арабской цифры имеется скан записи на бумаге (`./data/train/image`) и запись произношения на английском языке разными дикторами (`./data/train/voice`)\n",
    "\n",
    "Требуется построить модель для классификации цифр"
   ]
  },
  {
   "cell_type": "code",
   "execution_count": null,
   "metadata": {
    "ExecuteTime": {
     "end_time": "2020-11-24T12:32:24.691307Z",
     "start_time": "2020-11-24T12:32:24.687256Z"
    }
   },
   "outputs": [],
   "source": [
    "IMAGE_TRAIN_PATH = \"./data/train/image\"\n",
    "VOICE_TRAIN_PATH = \"./data/train/voice\"\n",
    "IMAGE_TEST_PATH = \"./data/test/image\"\n",
    "VOICE_TEST_PATH = \"./data/test/voice\"\n",
    "\n",
    "def read_image(path):\n",
    "    return PIL.Image.open(path).convert('L')"
   ]
  },
  {
   "cell_type": "markdown",
   "metadata": {},
   "source": [
    "Первый символ в названии файлов соответствует целевой переменной, затем указан некоторый идентификатор данного класса"
   ]
  },
  {
   "cell_type": "code",
   "execution_count": null,
   "metadata": {},
   "outputs": [],
   "source": [
    "# Uncomment if you are using colab\n",
    "# !mkdir ./data\n",
    "\n",
    "# !wget https://raw.githubusercontent.com/shestakoff/sphere-ml-intro/master/2020/seminar/data/train.zip -O ./data/train.zip\n",
    "# !wget https://raw.githubusercontent.com/shestakoff/sphere-ml-intro/master/2020/seminar/data/test.zip -O ./data/test.zip"
   ]
  },
  {
   "cell_type": "code",
   "execution_count": null,
   "metadata": {
    "ExecuteTime": {
     "end_time": "2020-11-24T12:32:26.860345Z",
     "start_time": "2020-11-24T12:32:26.857783Z"
    }
   },
   "outputs": [],
   "source": [
    "# %%bash\n",
    "# unzip ./data/test.zip -d ./data/test\n",
    "# unzip ./data/train.zip -d ./data/train"
   ]
  },
  {
   "cell_type": "code",
   "execution_count": null,
   "metadata": {
    "ExecuteTime": {
     "end_time": "2020-11-24T12:32:27.185605Z",
     "start_time": "2020-11-24T12:32:27.168390Z"
    }
   },
   "outputs": [],
   "source": [
    "print(\n",
    "    os.listdir(IMAGE_TRAIN_PATH)[:10],\n",
    "    os.listdir(VOICE_TRAIN_PATH)[:10],\n",
    "    sep='\\n\\n'\n",
    ")"
   ]
  },
  {
   "cell_type": "code",
   "execution_count": null,
   "metadata": {
    "ExecuteTime": {
     "end_time": "2020-11-24T12:32:29.049208Z",
     "start_time": "2020-11-24T12:32:28.934339Z"
    }
   },
   "outputs": [],
   "source": [
    "img = read_image(os.path.join(IMAGE_TRAIN_PATH, \"0_3.png\"))\n",
    "plt.imshow(img, cmap='gray')\n",
    "plt.grid(False);"
   ]
  },
  {
   "cell_type": "code",
   "execution_count": null,
   "metadata": {
    "ExecuteTime": {
     "end_time": "2020-11-24T12:32:29.748754Z",
     "start_time": "2020-11-24T12:32:29.735819Z"
    }
   },
   "outputs": [],
   "source": [
    "ipd.Audio(os.path.join(VOICE_TRAIN_PATH, \"0_3.wav\"))"
   ]
  },
  {
   "cell_type": "markdown",
   "metadata": {},
   "source": [
    "\tПостроить модель для определенной цифры\n",
    "\tПостроить модель, позволяющую распознавать все цифры (multilabel или multiclass?)"
   ]
  },
  {
   "cell_type": "markdown",
   "metadata": {},
   "source": [
    "# Представление данных"
   ]
  },
  {
   "cell_type": "markdown",
   "metadata": {},
   "source": [
    "[источник изображения](https://christophm.github.io/interpretable-ml-book/agnostic.html)"
   ]
  },
  {
   "cell_type": "markdown",
   "metadata": {},
   "source": [
    "<img src=\"./images/interpretable_ml.png\" alt=\"\" style=\"width: 400px;\"/>"
   ]
  },
  {
   "cell_type": "markdown",
   "metadata": {},
   "source": [
    "## изображения"
   ]
  },
  {
   "cell_type": "markdown",
   "metadata": {
    "ExecuteTime": {
     "end_time": "2019-11-16T14:51:41.872750Z",
     "start_time": "2019-11-16T14:51:41.868546Z"
    }
   },
   "source": [
    "### Представление изображения"
   ]
  },
  {
   "cell_type": "code",
   "execution_count": null,
   "metadata": {
    "ExecuteTime": {
     "end_time": "2020-11-24T12:32:32.888114Z",
     "start_time": "2020-11-24T12:32:32.883899Z"
    }
   },
   "outputs": [],
   "source": [
    "img = read_image(os.path.join(IMAGE_TRAIN_PATH, \"0_3.png\"))"
   ]
  },
  {
   "cell_type": "code",
   "execution_count": null,
   "metadata": {
    "ExecuteTime": {
     "end_time": "2020-11-24T12:32:33.048467Z",
     "start_time": "2020-11-24T12:32:33.044947Z"
    }
   },
   "outputs": [],
   "source": [
    "type(img)"
   ]
  },
  {
   "cell_type": "code",
   "execution_count": null,
   "metadata": {
    "ExecuteTime": {
     "end_time": "2020-11-24T12:32:33.305501Z",
     "start_time": "2020-11-24T12:32:33.299569Z"
    }
   },
   "outputs": [],
   "source": [
    "np_img = np.array(img)\n",
    "IMG_SHAPE = np_img.shape\n",
    "\n",
    "IMG_SHAPE"
   ]
  },
  {
   "cell_type": "code",
   "execution_count": null,
   "metadata": {
    "ExecuteTime": {
     "end_time": "2020-11-24T12:32:33.675948Z",
     "start_time": "2020-11-24T12:32:33.351705Z"
    }
   },
   "outputs": [],
   "source": [
    "plt.figure(figsize=(10,10))\n",
    "plt.matshow(np_img, fignum=1, cmap='gray')\n",
    "plt.xticks(np.arange(-0.5, 28, 1), np.arange(1, 29, 1))\n",
    "plt.yticks(np.arange(-0.5, 28, 1), np.arange(1, 29, 1))\n",
    "plt.show()"
   ]
  },
  {
   "cell_type": "code",
   "execution_count": null,
   "metadata": {
    "ExecuteTime": {
     "end_time": "2020-11-24T12:32:33.681514Z",
     "start_time": "2020-11-24T12:32:33.677916Z"
    }
   },
   "outputs": [],
   "source": [
    "np_img.min(), np_img.max()"
   ]
  },
  {
   "cell_type": "code",
   "execution_count": null,
   "metadata": {
    "ExecuteTime": {
     "end_time": "2020-11-24T12:32:34.366514Z",
     "start_time": "2020-11-24T12:32:33.686720Z"
    }
   },
   "outputs": [],
   "source": [
    "train_image_names = np.array(os.listdir(IMAGE_TRAIN_PATH))\n",
    "order = np.random.permutation(len(train_image_names))\n",
    "shuffled_train = train_image_names[order]\n",
    "\n",
    "plt.figure(figsize=(6, 7))\n",
    "for i in range(25):\n",
    "    image_name = shuffled_train[i]\n",
    "    target = image_name[:1]\n",
    "    img = read_image(os.path.join(IMAGE_TRAIN_PATH, image_name))\n",
    "    plt.subplot(5, 5, i+1)\n",
    "    plt.imshow(img, cmap=plt.cm.Greys_r)\n",
    "    plt.title(target)\n",
    "    plt.axis('off')"
   ]
  },
  {
   "cell_type": "markdown",
   "metadata": {
    "ExecuteTime": {
     "end_time": "2019-11-16T14:52:05.973657Z",
     "start_time": "2019-11-16T14:52:05.970358Z"
    }
   },
   "source": [
    "### Работа с изображениями"
   ]
  },
  {
   "cell_type": "markdown",
   "metadata": {},
   "source": [
    "На занятиях до этого объект описывался вектором (например, в задаче предсказания цен на недвижимость) или мы сводили представление объекта к векторному (работа с текстовыми данными). \n",
    "\n",
    "Представим изрображение в виде вектора"
   ]
  },
  {
   "cell_type": "code",
   "execution_count": null,
   "metadata": {
    "ExecuteTime": {
     "end_time": "2020-11-24T12:32:34.373129Z",
     "start_time": "2020-11-24T12:32:34.368618Z"
    }
   },
   "outputs": [],
   "source": [
    "a_matrix = np.array([\n",
    "    [1, 2, 3, 4],\n",
    "    [5, 6, 7, 8],\n",
    "    [9, 0, 1, 2]\n",
    "])\n",
    "\n",
    "a_matrix.reshape(-1)"
   ]
  },
  {
   "cell_type": "code",
   "execution_count": null,
   "metadata": {
    "ExecuteTime": {
     "end_time": "2020-11-24T12:32:34.573161Z",
     "start_time": "2020-11-24T12:32:34.569468Z"
    }
   },
   "outputs": [],
   "source": [
    "a_matrix.reshape((3, 4))"
   ]
  },
  {
   "cell_type": "code",
   "execution_count": null,
   "metadata": {
    "ExecuteTime": {
     "end_time": "2020-11-24T12:32:34.925876Z",
     "start_time": "2020-11-24T12:32:34.826226Z"
    }
   },
   "outputs": [],
   "source": [
    "plt.imshow(img, cmap='gray')\n",
    "plt.grid(False);"
   ]
  },
  {
   "cell_type": "code",
   "execution_count": null,
   "metadata": {
    "ExecuteTime": {
     "end_time": "2020-11-24T12:32:35.039504Z",
     "start_time": "2020-11-24T12:32:35.037221Z"
    }
   },
   "outputs": [],
   "source": [
    "np_img = np.array(img)"
   ]
  },
  {
   "cell_type": "code",
   "execution_count": null,
   "metadata": {
    "ExecuteTime": {
     "end_time": "2020-11-24T12:32:35.234730Z",
     "start_time": "2020-11-24T12:32:35.230408Z"
    }
   },
   "outputs": [],
   "source": [
    "np_img.shape"
   ]
  },
  {
   "cell_type": "code",
   "execution_count": null,
   "metadata": {
    "ExecuteTime": {
     "end_time": "2020-11-24T12:32:35.421975Z",
     "start_time": "2020-11-24T12:32:35.418691Z"
    }
   },
   "outputs": [],
   "source": [
    "vectorized_img = np_img.reshape(-1)"
   ]
  },
  {
   "cell_type": "code",
   "execution_count": null,
   "metadata": {
    "ExecuteTime": {
     "end_time": "2020-11-24T12:32:35.602593Z",
     "start_time": "2020-11-24T12:32:35.596449Z"
    }
   },
   "outputs": [],
   "source": [
    "vectorized_img.shape"
   ]
  },
  {
   "cell_type": "code",
   "execution_count": null,
   "metadata": {
    "ExecuteTime": {
     "end_time": "2020-11-24T12:32:35.867405Z",
     "start_time": "2020-11-24T12:32:35.765012Z"
    }
   },
   "outputs": [],
   "source": [
    "plt.imshow(vectorized_img.reshape(IMG_SHAPE), cmap='gray')\n",
    "plt.grid(False);"
   ]
  },
  {
   "cell_type": "markdown",
   "metadata": {},
   "source": [
    "## аудиозаписи"
   ]
  },
  {
   "cell_type": "code",
   "execution_count": null,
   "metadata": {
    "ExecuteTime": {
     "end_time": "2020-11-24T12:32:46.646500Z",
     "start_time": "2020-11-24T12:32:46.050101Z"
    }
   },
   "outputs": [],
   "source": [
    "t = np.linspace(0, 2, 100)\n",
    "\n",
    "fig, ax  = plt.subplots(nrows=2, ncols=2, figsize=(20,10))\n",
    "\n",
    "ax[0,0].set_title(r\"$\\sin(2\\pi t)$\")\n",
    "ax[0,0].plot(t, np.sin(2 * np.pi * t))\n",
    "ax[0,0].set_ylim([-2.05, 2.05])\n",
    "\n",
    "ax[0,1].set_title(r\"$2 \\sin(2\\pi t)$\")\n",
    "ax[0,1].plot(t, 2 * np.sin(2 * np.pi * t))\n",
    "ax[0,1].set_ylim([-2.05, 2.05])\n",
    "\n",
    "ax[1,0].set_title(r\"$\\sin(4\\pi t)$\")\n",
    "ax[1,0].plot(t, np.sin(2 * 2 * np.pi * t))\n",
    "ax[1,0].set_ylim([-2.05, 2.05])\n",
    "\n",
    "ax[1,1].set_title(r\"$\\sin(2\\pi t + \\frac{\\pi}{2})$\")\n",
    "ax[1,1].plot(t, np.sin(2 * np.pi * t + np.pi / 2))\n",
    "ax[1,1].set_ylim([-2.05, 2.05]);"
   ]
  },
  {
   "cell_type": "markdown",
   "metadata": {},
   "source": [
    "Реальные сигналы сложные"
   ]
  },
  {
   "cell_type": "code",
   "execution_count": null,
   "metadata": {
    "ExecuteTime": {
     "end_time": "2020-11-24T12:32:50.435168Z",
     "start_time": "2020-11-24T12:32:50.361902Z"
    }
   },
   "outputs": [],
   "source": [
    "frequency = 300\n",
    "SR = 22050\n",
    "T = 6.0\n",
    "\n",
    "t = np.linspace(0, T, int(T * SR))\n",
    "music = np.sin(2 * np.pi * frequency * t)\n",
    "ipd.Audio(music, rate=SR)"
   ]
  },
  {
   "cell_type": "markdown",
   "metadata": {
    "slideshow": {
     "slide_type": "-"
    }
   },
   "source": [
    "![alt text](./images/discretization.png)"
   ]
  },
  {
   "cell_type": "markdown",
   "metadata": {
    "ExecuteTime": {
     "end_time": "2020-11-23T12:49:40.461663Z",
     "start_time": "2020-11-23T12:49:40.457185Z"
    }
   },
   "source": [
    "**Терминология**: [librosa glossary](https://librosa.github.io/librosa/glossary.html)"
   ]
  },
  {
   "cell_type": "markdown",
   "metadata": {
    "ExecuteTime": {
     "end_time": "2020-11-23T12:45:09.012185Z",
     "start_time": "2020-11-23T12:45:09.001654Z"
    }
   },
   "source": [
    "### Aliasing\n",
    "\n",
    "выбор [частоты дискретизации](https://ru.wikipedia.org/wiki/%D0%A7%D0%B0%D1%81%D1%82%D0%BE%D1%82%D0%B0_%D0%B4%D0%B8%D1%81%D0%BA%D1%80%D0%B5%D1%82%D0%B8%D0%B7%D0%B0%D1%86%D0%B8%D0%B8) **[важен](https://ru.wikipedia.org/wiki/%D0%90%D0%BB%D0%B8%D0%B0%D1%81%D0%B8%D0%BD%D0%B3)**"
   ]
  },
  {
   "cell_type": "code",
   "execution_count": null,
   "metadata": {
    "ExecuteTime": {
     "end_time": "2020-11-24T12:33:11.874549Z",
     "start_time": "2020-11-24T12:33:11.598862Z"
    }
   },
   "outputs": [],
   "source": [
    "t1 = np.linspace(0, 1, 16)\n",
    "t2 = np.linspace(0, 1, 800)\n",
    "\n",
    "sin_v = np.sin(2 * np.pi * t1)\n",
    "sin_16v = np.sin(2 * np.pi * 16 * t2)\n",
    "\n",
    "plt.figure(figsize=(16,5))\n",
    "plt.scatter(t1, sin_v, label=r\"$\\sin(\\omega t)$\", color='k')\n",
    "plt.plot(t2, sin_16v, label=r\"$\\sin(16 \\omega t)$\")\n",
    "plt.legend(fontsize=12)\n",
    "plt.xlim([-0.05, 1.25]);"
   ]
  },
  {
   "cell_type": "markdown",
   "metadata": {
    "ExecuteTime": {
     "end_time": "2020-11-23T12:49:27.158116Z",
     "start_time": "2020-11-23T12:49:27.141233Z"
    }
   },
   "source": [
    "для оцифровки сигнала на частотах не выше $f$ частота дискретизации должна быть > $2f$ (формально можно посмотреть в [Теореме Котельникова-Шеннона](https://ru.wikipedia.org/wiki/%D0%A2%D0%B5%D0%BE%D1%80%D0%B5%D0%BC%D0%B0_%D0%9A%D0%BE%D1%82%D0%B5%D0%BB%D1%8C%D0%BD%D0%B8%D0%BA%D0%BE%D0%B2%D0%B0))"
   ]
  },
  {
   "cell_type": "markdown",
   "metadata": {},
   "source": [
    "### Сигнал"
   ]
  },
  {
   "cell_type": "markdown",
   "metadata": {
    "ExecuteTime": {
     "end_time": "2019-11-16T11:07:29.506343Z",
     "start_time": "2019-11-16T11:07:29.502841Z"
    }
   },
   "source": [
    "#### Воспроизвести"
   ]
  },
  {
   "cell_type": "code",
   "execution_count": null,
   "metadata": {
    "ExecuteTime": {
     "end_time": "2020-11-24T12:33:13.070547Z",
     "start_time": "2020-11-24T12:33:13.028201Z"
    }
   },
   "outputs": [],
   "source": [
    "for target in range(10):\n",
    "    for file_name in os.listdir(VOICE_TRAIN_PATH):\n",
    "        if int(file_name[0]) == target:\n",
    "            ipd.display(ipd.Audio(os.path.join(VOICE_TRAIN_PATH, file_name)))\n",
    "            break"
   ]
  },
  {
   "cell_type": "markdown",
   "metadata": {},
   "source": [
    "#### Визуализировать"
   ]
  },
  {
   "cell_type": "markdown",
   "metadata": {},
   "source": [
    "Можно было и [scipy](https://docs.scipy.org/doc/scipy-0.14.0/reference/generated/scipy.io.wavfile.read.html) использовать"
   ]
  },
  {
   "cell_type": "code",
   "execution_count": null,
   "metadata": {
    "ExecuteTime": {
     "end_time": "2020-11-24T12:33:14.646114Z",
     "start_time": "2020-11-24T12:33:14.643391Z"
    }
   },
   "outputs": [],
   "source": [
    "def load_wav(path, sr=8000):\n",
    "    return librosa.load(path, sr=sr)"
   ]
  },
  {
   "cell_type": "code",
   "execution_count": null,
   "metadata": {
    "ExecuteTime": {
     "end_time": "2020-11-24T12:33:14.877074Z",
     "start_time": "2020-11-24T12:33:14.866826Z"
    }
   },
   "outputs": [],
   "source": [
    "signal, sr = load_wav(os.path.join(VOICE_TRAIN_PATH, '0_3.wav'))"
   ]
  },
  {
   "cell_type": "code",
   "execution_count": null,
   "metadata": {
    "ExecuteTime": {
     "end_time": "2020-11-24T12:33:15.071280Z",
     "start_time": "2020-11-24T12:33:15.066354Z"
    }
   },
   "outputs": [],
   "source": [
    "ipd.Audio(os.path.join(VOICE_TRAIN_PATH, '0_3.wav'))"
   ]
  },
  {
   "cell_type": "code",
   "execution_count": null,
   "metadata": {
    "ExecuteTime": {
     "end_time": "2020-11-24T12:33:15.247208Z",
     "start_time": "2020-11-24T12:33:15.242254Z"
    }
   },
   "outputs": [],
   "source": [
    "print(\"duration: {} seconds\".format(signal.size / sr))"
   ]
  },
  {
   "cell_type": "code",
   "execution_count": null,
   "metadata": {
    "ExecuteTime": {
     "end_time": "2020-11-24T12:33:15.438992Z",
     "start_time": "2020-11-24T12:33:15.435405Z"
    }
   },
   "outputs": [],
   "source": [
    "time_axis = 1000 * np.arange(len(signal)) / sr"
   ]
  },
  {
   "cell_type": "code",
   "execution_count": null,
   "metadata": {
    "ExecuteTime": {
     "end_time": "2020-11-24T12:33:16.372050Z",
     "start_time": "2020-11-24T12:33:16.069333Z"
    }
   },
   "outputs": [],
   "source": [
    "sample_size = 250\n",
    "\n",
    "plt.figure(figsize=(12, 10))\n",
    "plt.subplot(211)\n",
    "plt.plot(time_axis, signal)\n",
    "plt.xlabel(\"время, миллисекунды\")\n",
    "\n",
    "plt.subplot(212)\n",
    "plt.plot(time_axis[:sample_size], signal[:sample_size])\n",
    "plt.xlabel(\"время, миллисекунды\");"
   ]
  },
  {
   "cell_type": "markdown",
   "metadata": {},
   "source": [
    "С какими проблемами можно столкнуться при попытках обучения модели на сырых записях (waveform'ах)?"
   ]
  },
  {
   "cell_type": "markdown",
   "metadata": {},
   "source": [
    "### Спектр"
   ]
  },
  {
   "cell_type": "markdown",
   "metadata": {
    "ExecuteTime": {
     "end_time": "2019-11-16T22:09:46.522667Z",
     "start_time": "2019-11-16T22:09:46.509587Z"
    }
   },
   "source": [
    "#### Преобразование Фурье"
   ]
  },
  {
   "cell_type": "code",
   "execution_count": null,
   "metadata": {
    "ExecuteTime": {
     "end_time": "2020-11-24T12:33:17.546512Z",
     "start_time": "2020-11-24T12:33:17.542130Z"
    }
   },
   "outputs": [],
   "source": [
    "def time_vs_frequency(x, y):\n",
    "    spectral_power = np.abs(np.fft.fft(y) ** 2)\n",
    "    spectral_power = spectral_power[:spectral_power.size // 2]\n",
    "\n",
    "    plt.figure(figsize=(12,5))\n",
    "    plt.subplot(121)\n",
    "    plt.plot(x, y)\n",
    "    plt.subplot(122)\n",
    "    plt.stem(spectral_power);"
   ]
  },
  {
   "cell_type": "code",
   "execution_count": null,
   "metadata": {
    "ExecuteTime": {
     "end_time": "2020-11-24T12:33:18.086111Z",
     "start_time": "2020-11-24T12:33:18.080574Z"
    }
   },
   "outputs": [],
   "source": [
    "x = np.linspace(-2 * np.pi, 2 * np.pi, 300)\n",
    "\n",
    "def sin_sum(x):\n",
    "    return np.sin(x) + np.sin(10 * x) * 0.5 + np.sin(20 * x) * 0.5\n",
    "\n",
    "noise = np.random.uniform(-1, 1, size=x.size)\n",
    "\n",
    "\n",
    "# time_vs_frequency(x, sin_sum(x))\n",
    "# time_vs_frequency(x, sin_sum(x + np.pi / 2))\n",
    "# time_vs_frequency(x, sin_sum(x) + noise)"
   ]
  },
  {
   "cell_type": "code",
   "execution_count": null,
   "metadata": {
    "ExecuteTime": {
     "end_time": "2020-11-24T12:33:18.717373Z",
     "start_time": "2020-11-24T12:33:18.714577Z"
    }
   },
   "outputs": [],
   "source": [
    "# time_vs_frequency(x, (np.abs(x) < 1).astype(int))\n",
    "# time_vs_frequency(x, (np.abs(x) < 0.3).astype(int))\n",
    "# time_vs_frequency(x, (np.abs(x) < 0.1).astype(int))"
   ]
  },
  {
   "cell_type": "markdown",
   "metadata": {
    "ExecuteTime": {
     "end_time": "2020-11-23T16:12:36.996870Z",
     "start_time": "2020-11-23T16:12:36.993974Z"
    }
   },
   "source": [
    "#### Спектральная фильтрация"
   ]
  },
  {
   "cell_type": "code",
   "execution_count": null,
   "metadata": {
    "ExecuteTime": {
     "end_time": "2020-11-24T12:33:22.384743Z",
     "start_time": "2020-11-24T12:33:19.212178Z"
    }
   },
   "outputs": [],
   "source": [
    "abba, sr = load_wav(\"./data/HNY.wav\", sr=22050)\n",
    "\n",
    "plt.figure(figsize=(24,5))\n",
    "plt.plot(abba);\n",
    "\n",
    "ipd.Audio(data=abba, rate=sr)"
   ]
  },
  {
   "cell_type": "code",
   "execution_count": null,
   "metadata": {
    "ExecuteTime": {
     "end_time": "2020-11-24T12:33:22.667757Z",
     "start_time": "2020-11-24T12:33:22.386662Z"
    }
   },
   "outputs": [],
   "source": [
    "spectrum = np.fft.fft(abba)"
   ]
  },
  {
   "cell_type": "code",
   "execution_count": null,
   "metadata": {
    "ExecuteTime": {
     "end_time": "2020-11-24T12:33:24.678474Z",
     "start_time": "2020-11-24T12:33:24.352396Z"
    }
   },
   "outputs": [],
   "source": [
    "freq_khz = np.arange(spectrum.size  // 2) * (sr / abba.size) / 1000.0\n",
    "\n",
    "plt.plot(freq_khz, np.abs(spectrum ** 2)[:spectrum.size // 2])\n",
    "plt.xlabel(\"частота, кГц\");"
   ]
  },
  {
   "cell_type": "code",
   "execution_count": null,
   "metadata": {
    "ExecuteTime": {
     "end_time": "2020-11-24T12:33:25.516051Z",
     "start_time": "2020-11-24T12:33:24.749283Z"
    }
   },
   "outputs": [],
   "source": [
    "mask = np.ones(spectrum.size)\n",
    "\n",
    "mask[:15000] = 0\n",
    "mask[-15000:] = 0\n",
    "\n",
    "restored_signal = np.real(np.fft.ifft(spectrum * mask))\n",
    "\n",
    "ipd.display(ipd.Audio(restored_signal, rate=sr))\n",
    "\n",
    "plt.plot(freq_khz, np.abs((spectrum * mask) ** 2)[:spectrum.size // 2])\n",
    "plt.xlabel(\"частота, кГц\");"
   ]
  },
  {
   "cell_type": "code",
   "execution_count": null,
   "metadata": {
    "ExecuteTime": {
     "end_time": "2020-11-24T12:33:26.957455Z",
     "start_time": "2020-11-24T12:33:26.183650Z"
    }
   },
   "outputs": [],
   "source": [
    "mask = np.zeros(spectrum.size)\n",
    "\n",
    "mask[:25000] = 1\n",
    "mask[-25000:] = 1\n",
    "\n",
    "restored_signal = np.real(np.fft.ifft(spectrum * mask))\n",
    "\n",
    "ipd.display(ipd.Audio(restored_signal, rate=sr))\n",
    "\n",
    "plt.plot(freq_khz, np.abs((spectrum * mask) ** 2)[:spectrum.size // 2])\n",
    "plt.xlabel(\"частота, кГц\");"
   ]
  },
  {
   "cell_type": "markdown",
   "metadata": {
    "ExecuteTime": {
     "end_time": "2019-11-16T22:33:08.254365Z",
     "start_time": "2019-11-16T22:33:08.251671Z"
    }
   },
   "source": [
    "#### Спектр сигнала"
   ]
  },
  {
   "cell_type": "code",
   "execution_count": null,
   "metadata": {
    "ExecuteTime": {
     "end_time": "2020-11-24T12:33:28.012716Z",
     "start_time": "2020-11-24T12:33:28.007282Z"
    }
   },
   "outputs": [],
   "source": [
    "spectrum = np.fft.fft(signal)"
   ]
  },
  {
   "cell_type": "code",
   "execution_count": null,
   "metadata": {
    "ExecuteTime": {
     "end_time": "2020-11-24T12:33:28.634713Z",
     "start_time": "2020-11-24T12:33:28.398880Z"
    }
   },
   "outputs": [],
   "source": [
    "spectrum = np.abs(spectrum[:spectrum.size // 2] ** 2)\n",
    "spectrum /= spectrum.size\n",
    "freq_khz = np.arange(spectrum.size) * (sr / signal.size) / 1000.0\n",
    "\n",
    "plt.figure(figsize=(12, 5))\n",
    "plt.subplot(121)\n",
    "plt.title(\"Сигнал\")\n",
    "plt.plot(time_axis, signal)\n",
    "plt.xlabel(\"время, миллисекунды\")\n",
    "plt.subplot(122)\n",
    "plt.title(\"Спектр\")\n",
    "plt.plot(freq_khz, spectrum)\n",
    "plt.xlabel(\"частота, кГц\")\n",
    "plt.show()"
   ]
  },
  {
   "cell_type": "code",
   "execution_count": null,
   "metadata": {
    "ExecuteTime": {
     "end_time": "2020-11-24T12:33:29.332718Z",
     "start_time": "2020-11-24T12:33:29.327677Z"
    }
   },
   "outputs": [],
   "source": [
    "signal.size"
   ]
  },
  {
   "cell_type": "markdown",
   "metadata": {},
   "source": [
    "#### STFT: Short Time Fourier Transform"
   ]
  },
  {
   "cell_type": "markdown",
   "metadata": {},
   "source": [
    "Рассмотрим импульс на иинтервале от $0$ до $T$\n",
    "\n",
    "$$\\Large\n",
    "e^{-\\frac{(t - T/2)^2}{\\beta}} \\sin(2\\pi\\nu t + \\alpha t^2) \n",
    "$$"
   ]
  },
  {
   "cell_type": "code",
   "execution_count": null,
   "metadata": {
    "ExecuteTime": {
     "end_time": "2020-11-24T12:33:30.533083Z",
     "start_time": "2020-11-24T12:33:30.484006Z"
    }
   },
   "outputs": [],
   "source": [
    "frequency = 300\n",
    "sr = 8000\n",
    "T = 6.0\n",
    "\n",
    "t = np.linspace(0, T, int(T * sr))\n",
    "\n",
    "music1 = np.sin(2 * np.pi * frequency * t + 48 * np.pi * t ** 2) * np.exp(- (t - T / 2) ** 2 / 3)\n",
    "music2 = music1[::-1]\n",
    "\n",
    "ipd.display(ipd.Audio(music1, rate=sr))\n",
    "ipd.display(ipd.Audio(music2, rate=sr))"
   ]
  },
  {
   "cell_type": "code",
   "execution_count": null,
   "metadata": {
    "ExecuteTime": {
     "end_time": "2020-11-24T12:33:31.607976Z",
     "start_time": "2020-11-24T12:33:31.383617Z"
    }
   },
   "outputs": [],
   "source": [
    "subset = 4000\n",
    "\n",
    "spectrum1 = np.fft.fft(music1)\n",
    "spectrum1 = np.abs(spectrum1[:spectrum1.size // 2] ** 2)[:subset]\n",
    "\n",
    "spectrum2 = np.fft.fft(music2)\n",
    "spectrum2 = np.abs(spectrum2[:spectrum2.size // 2] ** 2)[:subset]\n",
    "\n",
    "freq_hz = np.arange(spectrum1.size)[:subset] * (sr / music1.size)\n",
    "\n",
    "\n",
    "plt.figure(figsize=(12, 5))\n",
    "plt.subplot(121)\n",
    "plt.plot(freq_hz, spectrum1)\n",
    "plt.subplot(122)\n",
    "plt.plot(freq_hz, spectrum2)\n",
    "plt.show()"
   ]
  },
  {
   "cell_type": "code",
   "execution_count": null,
   "metadata": {
    "ExecuteTime": {
     "end_time": "2020-11-24T12:33:36.068484Z",
     "start_time": "2020-11-24T12:33:35.634793Z"
    }
   },
   "outputs": [],
   "source": [
    "hop_length = 80\n",
    "n_fft = 512\n",
    "\n",
    "spectrogram1 = np.abs(librosa.stft(\n",
    "    music1, n_fft=n_fft, hop_length=hop_length\n",
    "))\n",
    "spectrogram2 = np.abs(librosa.stft(\n",
    "    np.asfortranarray(music2), n_fft=n_fft, hop_length=hop_length\n",
    "))\n",
    "plt.figure(figsize=(16,5))\n",
    "plt.subplot(121)\n",
    "librosa.display.specshow(\n",
    "    spectrogram1, sr=sr, hop_length=hop_length,\n",
    "    x_axis='time', y_axis='hz'\n",
    ")\n",
    "plt.ylim([0, 1000])\n",
    "plt.colorbar()\n",
    "plt.subplot(122)\n",
    "librosa.display.specshow(\n",
    "    spectrogram2, sr=sr, hop_length=hop_length,\n",
    "    x_axis='time', y_axis='hz'\n",
    ")\n",
    "plt.colorbar()\n",
    "plt.ylim([0, 1000])\n",
    "plt.show()"
   ]
  },
  {
   "cell_type": "markdown",
   "metadata": {},
   "source": [
    "[источник изображения](https://www.mathworks.com/help/signal/ref/stft.html)\n",
    "\n",
    "<img src=\"./images/iscola_stft.png\" alt=\"\" style=\"width: 600px;\"/>"
   ]
  },
  {
   "cell_type": "code",
   "execution_count": null,
   "metadata": {
    "ExecuteTime": {
     "end_time": "2020-11-24T12:33:39.007390Z",
     "start_time": "2020-11-24T12:33:39.003360Z"
    }
   },
   "outputs": [],
   "source": [
    "hop_length = 80\n",
    "n_fft = 184\n",
    "\n",
    "spectrogram = np.abs(librosa.stft(\n",
    "    signal, n_fft=n_fft, hop_length=hop_length\n",
    "))"
   ]
  },
  {
   "cell_type": "markdown",
   "metadata": {},
   "source": [
    "физический смысл:\n",
    "\n",
    "`n_fft`: определяет число отсчетов(ширину окна), которые поступают в Фурье-преобразование\n",
    "\n",
    "`hop_length` - определяет сдвиг окна между соседними преобразованиями Фурье"
   ]
  },
  {
   "cell_type": "markdown",
   "metadata": {},
   "source": [
    "Ширина окна в секундах:"
   ]
  },
  {
   "cell_type": "code",
   "execution_count": null,
   "metadata": {
    "ExecuteTime": {
     "end_time": "2020-11-24T12:33:40.328668Z",
     "start_time": "2020-11-24T12:33:40.323953Z"
    }
   },
   "outputs": [],
   "source": [
    "n_fft / sr"
   ]
  },
  {
   "cell_type": "markdown",
   "metadata": {
    "ExecuteTime": {
     "end_time": "2020-11-23T19:52:37.640465Z",
     "start_time": "2020-11-23T19:52:37.628735Z"
    }
   },
   "source": [
    "Шаг между соседними окнами в секундах:"
   ]
  },
  {
   "cell_type": "code",
   "execution_count": null,
   "metadata": {
    "ExecuteTime": {
     "end_time": "2020-11-24T12:33:41.171750Z",
     "start_time": "2020-11-24T12:33:41.167093Z"
    }
   },
   "outputs": [],
   "source": [
    "hop_length / sr"
   ]
  },
  {
   "cell_type": "markdown",
   "metadata": {},
   "source": [
    "Сколько всего было Фурье-преобразований:"
   ]
  },
  {
   "cell_type": "code",
   "execution_count": null,
   "metadata": {
    "ExecuteTime": {
     "end_time": "2020-11-24T12:33:42.006348Z",
     "start_time": "2020-11-24T12:33:42.001973Z"
    }
   },
   "outputs": [],
   "source": [
    "(signal.size / sr) / (hop_length / sr)"
   ]
  },
  {
   "cell_type": "code",
   "execution_count": null,
   "metadata": {
    "ExecuteTime": {
     "end_time": "2020-11-24T12:33:53.062328Z",
     "start_time": "2020-11-24T12:33:53.057975Z"
    }
   },
   "outputs": [],
   "source": [
    "spectrogram.shape"
   ]
  },
  {
   "cell_type": "code",
   "execution_count": null,
   "metadata": {
    "ExecuteTime": {
     "end_time": "2020-11-24T12:33:53.675260Z",
     "start_time": "2020-11-24T12:33:53.483808Z"
    }
   },
   "outputs": [],
   "source": [
    "plt.figure(figsize=(12,5))\n",
    "librosa.display.specshow(\n",
    "    spectrogram, sr=sr, hop_length=hop_length,\n",
    "    x_axis='time', y_axis='hz'\n",
    ")\n",
    "plt.colorbar();"
   ]
  },
  {
   "cell_type": "markdown",
   "metadata": {},
   "source": [
    "Почти вся область черная. Где-то ошибка?\n",
    "\n",
    "Ошибки нет, спектр сигнала преимущественно сосредоточен до 500 Гц <br>\n",
    "Человек слышит на частотах от 20 Гц до 20 кГц <br>\n",
    "Говорит на частотах от 300 Гц до 4кГц <br>"
   ]
  },
  {
   "cell_type": "code",
   "execution_count": null,
   "metadata": {
    "ExecuteTime": {
     "end_time": "2020-11-24T12:33:56.682698Z",
     "start_time": "2020-11-24T12:33:55.891416Z"
    }
   },
   "outputs": [],
   "source": [
    "plt.figure(figsize=(12,5))\n",
    "plt.subplot(121)\n",
    "librosa.display.specshow(spectrogram, sr=sr, hop_length=hop_length, \n",
    "                         x_axis='time', y_axis='log')\n",
    "plt.colorbar()\n",
    "\n",
    "spectrogram_db = librosa.amplitude_to_db(spectrogram)\n",
    "plt.subplot(122)\n",
    "librosa.display.specshow(spectrogram_db, sr=sr, hop_length=hop_length, \n",
    "                         x_axis='time', y_axis='log', cmap='plasma')\n",
    "plt.colorbar();"
   ]
  },
  {
   "cell_type": "markdown",
   "metadata": {},
   "source": [
    "### MFCC"
   ]
  },
  {
   "cell_type": "markdown",
   "metadata": {
    "ExecuteTime": {
     "end_time": "2019-11-16T12:04:29.180192Z",
     "start_time": "2019-11-16T12:04:29.153637Z"
    }
   },
   "source": [
    "**[Mel](https://ru.wikipedia.org/wiki/%D0%9C%D0%B5%D0%BB_%28%D0%B2%D1%8B%D1%81%D0%BE%D1%82%D0%B0_%D0%B7%D0%B2%D1%83%D0%BA%D0%B0%29) Frequency [Cepster](https://ru.wikipedia.org/wiki/%D0%9A%D0%B5%D0%BF%D1%81%D1%82%D1%80) Coefficients**"
   ]
  },
  {
   "cell_type": "markdown",
   "metadata": {
    "ExecuteTime": {
     "end_time": "2019-11-16T17:56:56.542194Z",
     "start_time": "2019-11-16T17:56:56.536836Z"
    }
   },
   "source": [
    "#### [Мел-шкала](https://ru.wikipedia.org/wiki/%D0%9C%D0%B5%D0%BB_%28%D0%B2%D1%8B%D1%81%D0%BE%D1%82%D0%B0_%D0%B7%D0%B2%D1%83%D0%BA%D0%B0%29)"
   ]
  },
  {
   "cell_type": "markdown",
   "metadata": {},
   "source": [
    "1) Размерность вектора после Фурье преобразования слишком большая\n",
    "\n",
    "2) Человек легко отличит 500 Hz от 1000 Hz, с 8500 Hz и 9000 Hz разница не так очевидна\n",
    "\n",
    "Чувствительность человеческого уха к звуку зависит от частоты звука: чем ниже частота, тем выше чувствительность\n",
    "\n",
    "$$m[mel] = 1127 \\ln(1 + \\frac{f[Hz]}{700})$$\n",
    "\n",
    "=> не все частотные интервалы спектра одинаково важны, вблизи низких частот интервалы должны быть мельче"
   ]
  },
  {
   "cell_type": "code",
   "execution_count": null,
   "metadata": {
    "ExecuteTime": {
     "end_time": "2020-11-24T12:34:00.359260Z",
     "start_time": "2020-11-24T12:34:00.281524Z"
    }
   },
   "outputs": [],
   "source": [
    "frequencies = [300, 400, 800, 900]\n",
    "SR = 22050\n",
    "T = 2.0\n",
    "t = np.linspace(0, T, int(T * SR))\n",
    "\n",
    "for frequency in frequencies:\n",
    "    music = np.sin(2 * np.pi * frequency * t)\n",
    "    ipd.display(ipd.Audio(music, rate=SR))"
   ]
  },
  {
   "cell_type": "code",
   "execution_count": null,
   "metadata": {
    "ExecuteTime": {
     "end_time": "2020-11-24T12:34:01.371002Z",
     "start_time": "2020-11-24T12:34:01.226170Z"
    }
   },
   "outputs": [],
   "source": [
    "mel = librosa.filters.mel(sr=sr, n_fft=n_fft, n_mels=10)\n",
    "\n",
    "librosa.display.specshow(mel, sr=sr, hop_length=hop_length, \n",
    "                         x_axis='linear');\n",
    "plt.ylabel('Mel')\n",
    "plt.colorbar();"
   ]
  },
  {
   "cell_type": "markdown",
   "metadata": {},
   "source": [
    "#### [Кепстр](https://ru.wikipedia.org/wiki/%D0%9A%D0%B5%D0%BF%D1%81%D1%82%D1%80)\n",
    "\n",
    "Спектр логарифма спектра"
   ]
  },
  {
   "cell_type": "code",
   "execution_count": null,
   "metadata": {
    "ExecuteTime": {
     "end_time": "2020-11-24T12:34:02.473836Z",
     "start_time": "2020-11-24T12:34:02.373947Z"
    }
   },
   "outputs": [],
   "source": [
    "plt.plot(spectrum);"
   ]
  },
  {
   "cell_type": "code",
   "execution_count": null,
   "metadata": {
    "ExecuteTime": {
     "end_time": "2020-11-24T12:34:03.177697Z",
     "start_time": "2020-11-24T12:34:03.049413Z"
    }
   },
   "outputs": [],
   "source": [
    "plt.plot(np.log10(spectrum));"
   ]
  },
  {
   "cell_type": "markdown",
   "metadata": {
    "ExecuteTime": {
     "end_time": "2019-11-18T18:23:09.264958Z",
     "start_time": "2019-11-18T18:23:09.259306Z"
    }
   },
   "source": [
    "Снова логарифм!\n",
    "\n",
    "Причины:\n",
    "* человек воспринимает звук логарифмически: может отличить изменение в ~ 10% (поэтому измеряют в [дБ](https://ru.wikipedia.org/wiki/%D0%94%D0%B5%D1%86%D0%B8%D0%B1%D0%B5%D0%BB))\n",
    "* логарифм сжимает динамический диапазон(см. про стабилизацию дисперсии и преобразование [Бокса-Кокса](http://www.machinelearning.ru/wiki/index.php?title=%D0%9C%D0%B5%D1%82%D0%BE%D0%B4_%D0%91%D0%BE%D0%BA%D1%81%D0%B0-%D0%9A%D0%BE%D0%BA%D1%81%D0%B0))\n",
    "    * если губы человека ближе к микрофону, уровень сигнала будет выше => энергия в частотных полосах будет варьироваться\n",
    "\n",
    "\n",
    "Хотим извлечь спектральную огибающую\n",
    "\n",
    "Что можно применить?"
   ]
  },
  {
   "cell_type": "markdown",
   "metadata": {
    "ExecuteTime": {
     "end_time": "2019-11-16T11:01:09.496598Z",
     "start_time": "2019-11-16T11:01:09.493558Z"
    }
   },
   "source": [
    "#### Извлечение MFCC"
   ]
  },
  {
   "cell_type": "code",
   "execution_count": null,
   "metadata": {
    "ExecuteTime": {
     "end_time": "2020-11-24T12:34:05.530481Z",
     "start_time": "2020-11-24T12:34:05.515869Z"
    }
   },
   "outputs": [],
   "source": [
    "features_mfcc = librosa.feature.mfcc(\n",
    "    signal, sr=sr, n_mfcc=13\n",
    ")"
   ]
  },
  {
   "cell_type": "code",
   "execution_count": null,
   "metadata": {
    "ExecuteTime": {
     "end_time": "2020-11-24T12:34:06.326322Z",
     "start_time": "2020-11-24T12:34:06.180089Z"
    }
   },
   "outputs": [],
   "source": [
    "plt.figure(figsize=(12,5))\n",
    "librosa.display.specshow(\n",
    "    features_mfcc, sr=sr, x_axis=\"time\", cmap=\"plasma\"\n",
    ")\n",
    "plt.colorbar();"
   ]
  },
  {
   "cell_type": "code",
   "execution_count": null,
   "metadata": {
    "ExecuteTime": {
     "end_time": "2020-11-24T12:34:07.041879Z",
     "start_time": "2020-11-24T12:34:07.038204Z"
    }
   },
   "outputs": [],
   "source": [
    "features_mfcc.shape"
   ]
  },
  {
   "cell_type": "code",
   "execution_count": null,
   "metadata": {
    "ExecuteTime": {
     "end_time": "2020-11-24T12:34:07.431766Z",
     "start_time": "2020-11-24T12:34:07.427725Z"
    }
   },
   "outputs": [],
   "source": [
    "another_signal, sr = load_wav(\n",
    "    os.path.join(VOICE_TRAIN_PATH, '0_0.wav')\n",
    ")"
   ]
  },
  {
   "cell_type": "code",
   "execution_count": null,
   "metadata": {
    "ExecuteTime": {
     "end_time": "2020-11-24T12:34:07.857468Z",
     "start_time": "2020-11-24T12:34:07.849222Z"
    }
   },
   "outputs": [],
   "source": [
    "another_features_mfcc = librosa.feature.mfcc(\n",
    "    another_signal, sr=sr, n_mfcc=13\n",
    ")"
   ]
  },
  {
   "cell_type": "code",
   "execution_count": null,
   "metadata": {
    "ExecuteTime": {
     "end_time": "2020-11-24T12:34:08.482646Z",
     "start_time": "2020-11-24T12:34:08.478727Z"
    }
   },
   "outputs": [],
   "source": [
    "features_mfcc.shape, another_features_mfcc.shape"
   ]
  },
  {
   "cell_type": "code",
   "execution_count": null,
   "metadata": {
    "ExecuteTime": {
     "end_time": "2020-11-24T12:34:08.968850Z",
     "start_time": "2020-11-24T12:34:08.964864Z"
    }
   },
   "outputs": [],
   "source": [
    "signal.size / sr, another_signal.size / sr"
   ]
  },
  {
   "cell_type": "markdown",
   "metadata": {},
   "source": [
    "Для сигналов разной длительности размер матрицы MFCC разный => количество признаков разное\n",
    "\n",
    "Как представить сигнал? "
   ]
  },
  {
   "cell_type": "code",
   "execution_count": null,
   "metadata": {},
   "outputs": [],
   "source": []
  },
  {
   "cell_type": "code",
   "execution_count": null,
   "metadata": {},
   "outputs": [],
   "source": []
  },
  {
   "cell_type": "markdown",
   "metadata": {},
   "source": [
    "# Метрика"
   ]
  },
  {
   "cell_type": "markdown",
   "metadata": {},
   "source": [
    "* Accuracy, precision, recall, F-measure, ...\n",
    "* Какую выбрать?\n",
    "* Зависит ли это от данных?\n",
    "* Micro и Macro усреднение\n",
    "* [Хорошая статья](https://medium.com/usf-msds/choosing-the-right-metric-for-evaluating-machine-learning-models-part-2-86d5649a5428)"
   ]
  },
  {
   "cell_type": "markdown",
   "metadata": {
    "ExecuteTime": {
     "end_time": "2019-11-18T22:17:23.107584Z",
     "start_time": "2019-11-18T22:17:22.894442Z"
    }
   },
   "source": [
    "![alt text](./images/classic.png)"
   ]
  },
  {
   "cell_type": "markdown",
   "metadata": {},
   "source": [
    "$$\\text{Accuracy} = \\frac{\\text{TP} + \\text{TN}}{\\text{TP} + \\text{TN} + \\text{FP} + \\text{FN}}$$\n",
    "\n",
    "$$\\text{Precision} = \\frac{\\text{TP}}{\\text{TP} + \\text{FP}}$$\n",
    "\n",
    "$$\\text{Recall} = \\frac{\\text{TP}}{\\text{TP} + \\text{FN}}$$\n",
    "\n",
    "$$\\text{F-score} = (1 + \\alpha)\\frac{\\text{Precision} * \\text{Recall}}{\\alpha * \\text{Precision} + \\text{Recall}}$$"
   ]
  },
  {
   "cell_type": "markdown",
   "metadata": {},
   "source": [
    "Загадки: `Precision` vs `Recall`\n",
    "* Вы хорошо решили [соревнование по антипорно](https://www.kaggle.com/c/introml2019-1) и устроились в компанию, которая занимается разработкой фильтра видеороликов для детей. Целевая переменная: 1 -> видеоролик хороший, 0 -> видеоролик плохой\n",
    "* Диагностика рака. Целевая переменная: 1 -> человек болен, 0 -> здоров\n",
    "* Антиспам. Целевая переменная: 1 -> спам, 0 -> хорошее письмо\n",
    "* Компьютерное зрение в супермаркетах. Целевая переменная: 1 -> вор, 0 -> законопослушный гражданин"
   ]
  },
  {
   "cell_type": "markdown",
   "metadata": {},
   "source": [
    "случай $K$ классов: для каждого $k$ можем вычислить $\\text{TP}_k$, $\\text{TN}_k$, $\\text{FP}_k$, $\\text{FN}_k$\n",
    "\n",
    "$$\\text{Precision}_{micro} = \\frac{\\sum_k{\\text{TP}_k}}{\\sum_k{\\text{TP}_k + \\text{FP}_k}}$$\n",
    "\n",
    "$$\\text{Recall}_{micro} = \\frac{\\sum_k{\\text{TP}_k}}{\\sum_k{\\text{TP}_k + \\text{FN}_k}}$$\n",
    "\n",
    "$$\\text{Precision}_{macro} = \\frac{1}{K}\\sum_k{\\frac{\\text{TP}_k}{\\text{TP}_k + \\text{FP}_k}}$$\n",
    "\n",
    "$$\\text{Recall}_{macro} = \\frac{1}{K}\\sum_k{\\frac{\\text{TP}_k}{\\text{TP}_k + \\text{FN}_k}}$$"
   ]
  },
  {
   "cell_type": "code",
   "execution_count": null,
   "metadata": {
    "ExecuteTime": {
     "end_time": "2020-11-24T12:34:16.045879Z",
     "start_time": "2020-11-24T12:34:16.039994Z"
    }
   },
   "outputs": [],
   "source": [
    "train_targets = [int(name[0]) for name in os.listdir(IMAGE_TRAIN_PATH)]"
   ]
  },
  {
   "cell_type": "markdown",
   "metadata": {},
   "source": [
    "постройте распределение целевой переменной<br>\n",
    "есть ли дисбаланс классов?"
   ]
  },
  {
   "cell_type": "code",
   "execution_count": null,
   "metadata": {},
   "outputs": [],
   "source": []
  },
  {
   "cell_type": "markdown",
   "metadata": {},
   "source": [
    "# Data Explortaion"
   ]
  },
  {
   "cell_type": "markdown",
   "metadata": {},
   "source": [
    "\tЕсть ли пропуски?\n",
    "\tЕсть ли аномалии? Что считать аномалией?\n",
    "\tВсе ли пиксели равноценны? Как это проверить с помощью эвристик и машинного обучения?"
   ]
  },
  {
   "cell_type": "code",
   "execution_count": null,
   "metadata": {
    "ExecuteTime": {
     "end_time": "2020-11-24T12:34:18.790383Z",
     "start_time": "2020-11-24T12:34:18.781369Z"
    }
   },
   "outputs": [],
   "source": [
    "durations = []\n",
    "\n",
    "min_duration = 10\n",
    "min_duration_name = ''\n",
    "max_duration = 0\n",
    "max_duration_name = ''\n",
    "\n",
    "for name in os.listdir(VOICE_TRAIN_PATH):\n",
    "    path = os.path.join(VOICE_TRAIN_PATH, name)"
   ]
  },
  {
   "cell_type": "code",
   "execution_count": null,
   "metadata": {
    "ExecuteTime": {
     "end_time": "2020-11-24T12:34:19.398697Z",
     "start_time": "2020-11-24T12:34:19.022147Z"
    }
   },
   "outputs": [],
   "source": [
    "plt.hist(durations, bins=25)\n",
    "plt.yscale('log');"
   ]
  },
  {
   "cell_type": "code",
   "execution_count": null,
   "metadata": {
    "ExecuteTime": {
     "end_time": "2020-11-23T14:05:39.585875Z",
     "start_time": "2020-11-23T14:05:39.580516Z"
    }
   },
   "outputs": [],
   "source": [
    "min_duration, max_duration"
   ]
  },
  {
   "cell_type": "code",
   "execution_count": null,
   "metadata": {
    "ExecuteTime": {
     "end_time": "2020-11-23T14:07:12.143906Z",
     "start_time": "2020-11-23T14:07:12.134982Z"
    }
   },
   "outputs": [],
   "source": [
    "for name in (min_duration_name, max_duration_name):\n",
    "    print(name)\n",
    "    ipd.display(ipd.Audio(f\"{VOICE_TRAIN_PATH}/{name}\"))"
   ]
  },
  {
   "cell_type": "code",
   "execution_count": null,
   "metadata": {
    "ExecuteTime": {
     "end_time": "2020-11-24T12:12:55.298513Z",
     "start_time": "2020-11-24T12:12:38.370221Z"
    }
   },
   "outputs": [],
   "source": [
    "sum_intensity = np.zeros(IMG_SHAPE, dtype=np.float32)\n",
    "\n",
    "zero_element_counts = []\n",
    "target = [] \n",
    "\n",
    "max_zero = -1\n",
    "min_zero = 28 * 28 + 1\n",
    "min_zero_name = ''\n",
    "max_zero_name = ''\n",
    "\n",
    "for i, name in enumerate(os.listdir(IMAGE_TRAIN_PATH)):\n",
    "    path = os.path.join(IMAGE_TRAIN_PATH, name)\n",
    "    target.append(int(name[0]))\n",
    "    img = read_image(path)\n",
    "    np_img = np.array(img)\n",
    "    zero_count = (np_img < 1.0).astype(int).sum()\n",
    "    zero_element_counts.append(zero_count)\n",
    "    \n",
    "    if zero_count > max_zero:\n",
    "        max_zero, max_zero_name = zero_count, name\n",
    "\n",
    "    if zero_count < min_zero:\n",
    "        min_zero, min_zero_name = zero_count, name \n",
    "        \n",
    "    sum_intensity += np_img\n",
    "    if i % 10 == 0:\n",
    "        ipd.clear_output(wait=True)\n",
    "        plt.figure(figsize=(8,8))\n",
    "        plt.imshow(sum_intensity, cmap=\"plasma\")\n",
    "        plt.grid(False)\n",
    "        plt.show()"
   ]
  },
  {
   "cell_type": "code",
   "execution_count": null,
   "metadata": {
    "ExecuteTime": {
     "end_time": "2020-11-24T12:12:59.200924Z",
     "start_time": "2020-11-24T12:12:58.932984Z"
    }
   },
   "outputs": [],
   "source": [
    "plt.hist(zero_element_counts, bins=30);"
   ]
  },
  {
   "cell_type": "code",
   "execution_count": null,
   "metadata": {
    "ExecuteTime": {
     "end_time": "2020-11-24T12:13:00.155667Z",
     "start_time": "2020-11-24T12:13:00.150523Z"
    }
   },
   "outputs": [],
   "source": [
    "max_zero, min_zero"
   ]
  },
  {
   "cell_type": "code",
   "execution_count": null,
   "metadata": {
    "ExecuteTime": {
     "end_time": "2020-11-24T12:13:01.115291Z",
     "start_time": "2020-11-24T12:13:00.922835Z"
    }
   },
   "outputs": [],
   "source": [
    "for name in (max_zero_name, min_zero_name):\n",
    "    strange_img = read_image(f\"{IMAGE_TRAIN_PATH}/{name}\")\n",
    "    plt.imshow(strange_img)\n",
    "    plt.grid(False)\n",
    "    plt.show();"
   ]
  },
  {
   "cell_type": "code",
   "execution_count": null,
   "metadata": {
    "ExecuteTime": {
     "end_time": "2020-11-24T12:13:04.102022Z",
     "start_time": "2020-11-24T12:13:04.073824Z"
    }
   },
   "outputs": [],
   "source": [
    "baseline_df = pd.DataFrame({\"x\": zero_element_counts, \"y\": target})\n",
    "\n",
    "baseline_df.head()"
   ]
  },
  {
   "cell_type": "markdown",
   "metadata": {},
   "source": [
    "Постройте гистограммы количества белых пикселей для каждой из цифр<br>\n",
    "Обучите модель на одном признаке"
   ]
  },
  {
   "cell_type": "markdown",
   "metadata": {},
   "source": [
    "# Извлечение признаков"
   ]
  },
  {
   "cell_type": "code",
   "execution_count": null,
   "metadata": {
    "ExecuteTime": {
     "end_time": "2020-11-24T12:13:07.761001Z",
     "start_time": "2020-11-24T12:13:07.756920Z"
    }
   },
   "outputs": [],
   "source": [
    "def extract_image_features(image_folder):\n",
    "    image_vectors = []\n",
    "    indices = []\n",
    "    for image_name in os.listdir(image_folder):\n",
    "        index = os.path.splitext(image_name)[0]\n",
    "        indices.append(index)\n",
    "        image = read_image(os.path.join(image_folder, image_name))\n",
    "        image_vector = np.array(image).reshape(-1)\n",
    "        image_vectors.append(image_vector)\n",
    "    return pd.DataFrame({\n",
    "        'index': indices,\n",
    "        'image_vector': image_vectors,\n",
    "    })"
   ]
  },
  {
   "cell_type": "code",
   "execution_count": null,
   "metadata": {
    "ExecuteTime": {
     "end_time": "2020-11-24T12:13:08.516001Z",
     "start_time": "2020-11-24T12:13:07.973949Z"
    }
   },
   "outputs": [],
   "source": [
    "image_features = extract_image_features(IMAGE_TRAIN_PATH)"
   ]
  },
  {
   "cell_type": "code",
   "execution_count": null,
   "metadata": {
    "ExecuteTime": {
     "end_time": "2020-11-24T12:13:08.531199Z",
     "start_time": "2020-11-24T12:13:08.517679Z"
    }
   },
   "outputs": [],
   "source": [
    "image_features.head()"
   ]
  },
  {
   "cell_type": "code",
   "execution_count": null,
   "metadata": {
    "ExecuteTime": {
     "end_time": "2020-11-24T12:13:08.697990Z",
     "start_time": "2020-11-24T12:13:08.693097Z"
    }
   },
   "outputs": [],
   "source": [
    "def extract_voice_features(voice_folder, numcep=13, hop_length=256):\n",
    "    voice_vectors = []\n",
    "    indices = []\n",
    "    for record_name in os.listdir(voice_folder):\n",
    "        index = os.path.splitext(record_name)[0]\n",
    "        indices.append(index)\n",
    "        signal, sr = load_wav(\n",
    "            os.path.join(voice_folder, record_name)\n",
    "        )\n",
    "        mfcc_features = librosa.feature.mfcc(\n",
    "            signal, sr=sr, n_mfcc=numcep, hop_length=hop_length\n",
    "        )\n",
    "        voice_vector = mfcc_features.mean(axis=1)\n",
    "        voice_vectors.append(voice_vector)\n",
    "    return pd.DataFrame({\n",
    "        'index': indices,\n",
    "        'voice_vector': voice_vectors,\n",
    "    })"
   ]
  },
  {
   "cell_type": "code",
   "execution_count": null,
   "metadata": {
    "ExecuteTime": {
     "end_time": "2020-11-24T12:13:15.057059Z",
     "start_time": "2020-11-24T12:13:09.463286Z"
    }
   },
   "outputs": [],
   "source": [
    "voice_features = extract_voice_features(VOICE_TRAIN_PATH)"
   ]
  },
  {
   "cell_type": "code",
   "execution_count": null,
   "metadata": {
    "ExecuteTime": {
     "end_time": "2020-11-24T12:13:15.068024Z",
     "start_time": "2020-11-24T12:13:15.058949Z"
    }
   },
   "outputs": [],
   "source": [
    "voice_features.head()"
   ]
  },
  {
   "cell_type": "code",
   "execution_count": null,
   "metadata": {
    "ExecuteTime": {
     "end_time": "2020-11-24T12:13:15.083815Z",
     "start_time": "2020-11-24T12:13:15.070036Z"
    }
   },
   "outputs": [],
   "source": [
    "dataset = image_features.merge(voice_features, on='index')"
   ]
  },
  {
   "cell_type": "code",
   "execution_count": null,
   "metadata": {
    "ExecuteTime": {
     "end_time": "2020-11-24T12:13:15.089614Z",
     "start_time": "2020-11-24T12:13:15.085747Z"
    }
   },
   "outputs": [],
   "source": [
    "dataset.shape"
   ]
  },
  {
   "cell_type": "code",
   "execution_count": null,
   "metadata": {
    "ExecuteTime": {
     "end_time": "2020-11-24T12:13:15.097738Z",
     "start_time": "2020-11-24T12:13:15.091689Z"
    }
   },
   "outputs": [],
   "source": [
    "dataset[\"target\"] = dataset[\"index\"].apply(lambda x: int(x[0]))"
   ]
  },
  {
   "cell_type": "code",
   "execution_count": null,
   "metadata": {
    "ExecuteTime": {
     "end_time": "2020-11-24T12:13:15.118315Z",
     "start_time": "2020-11-24T12:13:15.099778Z"
    }
   },
   "outputs": [],
   "source": [
    "dataset.head()"
   ]
  },
  {
   "cell_type": "markdown",
   "metadata": {},
   "source": [
    "# Преодбработка данных"
   ]
  },
  {
   "cell_type": "markdown",
   "metadata": {},
   "source": [
    "\tБудем нормировать / взвешивать признаки? Каким способом?\n",
    "\tЗависит ли это от модели?"
   ]
  },
  {
   "cell_type": "code",
   "execution_count": null,
   "metadata": {},
   "outputs": [],
   "source": []
  },
  {
   "cell_type": "markdown",
   "metadata": {},
   "source": [
    "# Выбираем модель\n"
   ]
  },
  {
   "cell_type": "markdown",
   "metadata": {
    "ExecuteTime": {
     "end_time": "2019-11-15T08:47:20.551539Z",
     "start_time": "2019-11-15T08:47:20.544722Z"
    }
   },
   "source": [
    "\tСтоит ли начинать со сложных моделей?\n",
    "\tНужно ли разделять имеющиеся данные?\n",
    "\tКак понять, что обученная модель приводит к приросту в качестве?\n",
    "\tКакие модели хорошо работают с разреженными признаками? Как насчет одного дерева?"
   ]
  },
  {
   "cell_type": "code",
   "execution_count": null,
   "metadata": {},
   "outputs": [],
   "source": []
  },
  {
   "cell_type": "markdown",
   "metadata": {},
   "source": [
    "# Переосмысление признаков"
   ]
  },
  {
   "cell_type": "markdown",
   "metadata": {},
   "source": [
    "\tЧто означают полученные числа? Какие инструменты можно было бы использовать?\n",
    "\tНужно ли снижение размерности? Какой размер выбрать?\n",
    "\tКак оценить представления изображений?"
   ]
  },
  {
   "cell_type": "code",
   "execution_count": null,
   "metadata": {},
   "outputs": [],
   "source": []
  },
  {
   "cell_type": "markdown",
   "metadata": {},
   "source": [
    "# Поиск слабых мест модели"
   ]
  },
  {
   "cell_type": "code",
   "execution_count": null,
   "metadata": {
    "ExecuteTime": {
     "end_time": "2020-11-24T10:31:45.650450Z",
     "start_time": "2020-11-24T10:31:45.621886Z"
    }
   },
   "outputs": [],
   "source": [
    "y_pred = clf.predict(X_test)"
   ]
  },
  {
   "cell_type": "code",
   "execution_count": null,
   "metadata": {
    "ExecuteTime": {
     "end_time": "2020-11-24T10:32:17.949594Z",
     "start_time": "2020-11-24T10:32:17.753727Z"
    }
   },
   "outputs": [],
   "source": [
    "conf_matrix = confusion_matrix(y_test, y_pred)\n",
    "\n",
    "plt.figure(figsize=(8,8))\n",
    "plt.matshow(conf_matrix, cmap=\"coolwarm\", fignum=1)\n",
    "plt.colorbar();"
   ]
  },
  {
   "cell_type": "code",
   "execution_count": null,
   "metadata": {
    "ExecuteTime": {
     "end_time": "2020-11-24T10:32:24.115430Z",
     "start_time": "2020-11-24T10:32:24.108781Z"
    }
   },
   "outputs": [],
   "source": [
    "test_data[\"predict\"] = y_pred"
   ]
  },
  {
   "cell_type": "code",
   "execution_count": null,
   "metadata": {
    "ExecuteTime": {
     "end_time": "2020-11-24T10:32:26.016655Z",
     "start_time": "2020-11-24T10:32:26.012532Z"
    }
   },
   "outputs": [],
   "source": [
    "wrong = test_data[test_data[\"target\"] != test_data[\"predict\"]]"
   ]
  },
  {
   "cell_type": "code",
   "execution_count": null,
   "metadata": {
    "ExecuteTime": {
     "end_time": "2020-11-24T10:32:26.598829Z",
     "start_time": "2020-11-24T10:32:26.594159Z"
    }
   },
   "outputs": [],
   "source": [
    "len(wrong)"
   ]
  },
  {
   "cell_type": "code",
   "execution_count": null,
   "metadata": {
    "ExecuteTime": {
     "end_time": "2020-11-24T10:32:27.571285Z",
     "start_time": "2020-11-24T10:32:27.566123Z"
    }
   },
   "outputs": [],
   "source": [
    "wrong_subset = wrong[:25]"
   ]
  },
  {
   "cell_type": "code",
   "execution_count": null,
   "metadata": {
    "ExecuteTime": {
     "end_time": "2020-11-24T10:32:28.816213Z",
     "start_time": "2020-11-24T10:32:28.297996Z"
    }
   },
   "outputs": [],
   "source": [
    "printed = 0\n",
    "\n",
    "plt.figure(figsize=(6, 7))\n",
    "for i, row in wrong_subset.iterrows():\n",
    "    name = row[\"index\"] + \".png\"\n",
    "    img = read_image(os.path.join(IMAGE_TRAIN_PATH, name))\n",
    "    plt.subplot(5, 5, printed+1)\n",
    "    plt.imshow(img, cmap=plt.cm.Greys_r)\n",
    "    plt.title(f\"{row['target']} {row['predict']}\")\n",
    "    plt.axis('off')\n",
    "    printed += 1"
   ]
  },
  {
   "cell_type": "markdown",
   "metadata": {},
   "source": [
    "# Бонус-1: quiz"
   ]
  },
  {
   "cell_type": "markdown",
   "metadata": {
    "ExecuteTime": {
     "end_time": "2020-11-24T12:16:22.802476Z",
     "start_time": "2020-11-24T12:16:22.791320Z"
    }
   },
   "source": [
    "<font size=\"3\"> пожалуйста, указывайте префикс на kaggle [MSU_2020]</font><br>\n",
    "\n",
    "<font size=\"3\"> Deadline: 01.12.2020 23:59 </font><br>\n",
    "\n",
    "<font size=\"3\"> Нельзя использовать нейронные сети </font><br>"
   ]
  },
  {
   "cell_type": "markdown",
   "metadata": {},
   "source": [
    "**Что можно попробовать?**\n",
    "* объединить картиночные и речевые признаки\n",
    "* обучить модель на картинках и модель на MFCC, а затем построить ансамбль\n",
    "* оптимизировать параметры классификатора с помощью кросс-валидации\n",
    "* понизить размерность картиночных признаков\n",
    "* исследовать зависимость качества предсказания от количества MFCC\n",
    "* попробовать другие методы агрегации матрицы MFCC\n",
    "* добавить дополнительные признаки (например, длительность аудиозаписи)"
   ]
  },
  {
   "cell_type": "code",
   "execution_count": null,
   "metadata": {
    "ExecuteTime": {
     "end_time": "2020-11-24T10:32:39.677035Z",
     "start_time": "2020-11-24T10:32:33.895041Z"
    }
   },
   "outputs": [],
   "source": [
    "voice_features = extract_voice_features(VOICE_TRAIN_PATH)\n",
    "image_features = extract_image_features(IMAGE_TRAIN_PATH)\n",
    "dataset = image_features.merge(voice_features, on='index')\n",
    "dataset[\"target\"] = dataset[\"index\"].apply(lambda x: int(x[0]))"
   ]
  },
  {
   "cell_type": "code",
   "execution_count": null,
   "metadata": {
    "ExecuteTime": {
     "end_time": "2020-11-24T10:32:40.880323Z",
     "start_time": "2020-11-24T10:32:40.874459Z"
    }
   },
   "outputs": [],
   "source": [
    "dataset.dtypes"
   ]
  },
  {
   "cell_type": "code",
   "execution_count": null,
   "metadata": {
    "ExecuteTime": {
     "end_time": "2020-11-24T10:32:43.307159Z",
     "start_time": "2020-11-24T10:32:43.272261Z"
    }
   },
   "outputs": [],
   "source": [
    "dataset.head()"
   ]
  },
  {
   "cell_type": "code",
   "execution_count": null,
   "metadata": {
    "ExecuteTime": {
     "end_time": "2019-11-19T17:22:50.382625Z",
     "start_time": "2019-11-19T17:22:50.378704Z"
    }
   },
   "outputs": [],
   "source": [
    "# fit predict\n",
    "# reduce dimension\n",
    "# cross validation\n",
    "# ..."
   ]
  },
  {
   "cell_type": "markdown",
   "metadata": {},
   "source": [
    "prepare submit data"
   ]
  },
  {
   "cell_type": "code",
   "execution_count": null,
   "metadata": {
    "ExecuteTime": {
     "end_time": "2020-11-24T10:32:55.349486Z",
     "start_time": "2020-11-24T10:32:53.199377Z"
    }
   },
   "outputs": [],
   "source": [
    "submit_image_features = extract_image_features(IMAGE_TEST_PATH)\n",
    "submit_voice_features = extract_voice_features(VOICE_TEST_PATH)\n",
    "submit_dataset = submit_image_features.merge(\n",
    "    submit_voice_features,\n",
    "    on=\"index\"\n",
    ")\n",
    "submit_dataset[\"index\"] = submit_dataset[\"index\"].apply(int)"
   ]
  },
  {
   "cell_type": "markdown",
   "metadata": {
    "ExecuteTime": {
     "end_time": "2019-11-18T19:54:50.635729Z",
     "start_time": "2019-11-18T19:54:50.630321Z"
    }
   },
   "source": [
    "make prediction"
   ]
  },
  {
   "cell_type": "code",
   "execution_count": null,
   "metadata": {
    "ExecuteTime": {
     "end_time": "2020-11-24T10:33:01.323474Z",
     "start_time": "2020-11-24T10:33:01.314782Z"
    }
   },
   "outputs": [],
   "source": [
    "random_guess = [np.random.randint(10) for i in range(submit_dataset.shape[0])]"
   ]
  },
  {
   "cell_type": "code",
   "execution_count": null,
   "metadata": {
    "ExecuteTime": {
     "end_time": "2020-11-24T10:33:03.753975Z",
     "start_time": "2020-11-24T10:33:03.750758Z"
    }
   },
   "outputs": [],
   "source": [
    "submit_dataset[\"target\"] = random_guess"
   ]
  },
  {
   "cell_type": "code",
   "execution_count": null,
   "metadata": {
    "ExecuteTime": {
     "end_time": "2020-11-24T10:33:06.223564Z",
     "start_time": "2020-11-24T10:33:06.190721Z"
    }
   },
   "outputs": [],
   "source": [
    "submit_dataset[[\"index\", \"target\"]] \\\n",
    "    .sort_values(\"index\") \\\n",
    "    .to_csv(\"random_submission.csv\", index=False)"
   ]
  },
  {
   "cell_type": "code",
   "execution_count": null,
   "metadata": {
    "ExecuteTime": {
     "end_time": "2019-11-19T17:23:40.090613Z",
     "start_time": "2019-11-19T17:23:40.087729Z"
    }
   },
   "outputs": [],
   "source": [
    "# from google.colab import files\n",
    "\n",
    "# files.download(\"random_submission.csv\")"
   ]
  },
  {
   "cell_type": "markdown",
   "metadata": {},
   "source": [
    "# Бонус-2: cool story"
   ]
  },
  {
   "cell_type": "markdown",
   "metadata": {},
   "source": [
    "**Андрей Плахов** (взято из [телеграм-канала](https://t.me/insilicio)):\n",
    "\n",
    "Итак, вы ML-специалист, а у вашей команды есть задача, поставленная в бизнес-терминах. В качестве конкретного примера выберем такую: \"сдавать недвижимость в аренду максимально эффективно\". Очевидно, что задача негладкая: мы или сдали, или нет, тут разрыв даже не первой производной, а самого таргета. Более того, таргет недоопределен на всём множестве возможных решений, т.к. в реальности существуют дополнительные аспекты, вскрывающиеся по ходу дела. Например, если мы ввели в нашу модель фичи, зависящие от предполагаемого арендатора, и поэтому в качестве побочного эффекта стали сдавать тем съемщикам, которым совершенно никто больше не сдаёт и которые готовы за это приплатить, мы можем обнаружить, что износ недвижимости почему-то перестал быть пренебрежимой константой. К тому же в задаче есть элементы аукциона и большая нестабильность во времени. Сложнаааа.\n",
    "\n",
    "Ок, мы для ясности на всё это забили и решили для начала просто обучить MSE, чтобы он по фичам предсказывал, за какую цену ЭТО можно сдать.\n",
    "И выяснили, что наша модель даёт MSE 1700 рублей. Хм, ну, вроде бы, неплохо.\n",
    "\n",
    "Что тут можно сделать дальше:\n",
    "\n",
    "1) продолжать улучшать MSE, перебирать (гипер)параметры, досыпать фичи и дотренировывать модельку, время от времени высылая заказчикам победные реляции о том, что MSE в новом релизе улучшилось с 1701 до 1689 рублей.\n",
    "\n",
    "2) всё-таки попробовать понять, как это решение выглядит с точки зрения бизнеса. Давайте предложим им провести эксперимент и сдавать часть недвижимости по цене, предлагаемой моделью. Мы вообще можем такой эксперимент хотя бы провести? Если нет, то что нам мешает? Если можем, то чего нам это стоит и как мы поймем, стало лучше или хуже или пофиг? Очень полезные вопросы.\n",
    "\n",
    "3) cравнить нашу модель с чем-нибудь. Давайте, например, сравним с моделью \"среднюю цену за метр для объектов в радиусе 500м умножить на площадь\", у которой есть понятный физический смысл. Какой у неё MSE? Если 2500 рублей, то это одно дело, а если 1400, то мы всё это время чем-то странным занимались. Ой, у нас не хватает данных, чтобы такое сравнение провести? Тогда, наверное, у нас и фичи так себе, и нужно бы ими заняться дополнительно.\n",
    "\n",
    "4) посмотреть на выбросы, подумать об инвариантах. Если мы обнаруживаем, что наша модель иногда предсказывает, что недвижимость нужно сдавать за цену ниже нуля, потому что Владивосток очень уж далеко от МКАДа, то её, наверное, несложно улучшить.\n",
    "\n",
    "5) посмотреть на то, как модель себя ведёт на срезах. Например, мы можем обнаружить, что почти вся ошибка определяется более дорогими объектами (как это обычно и бывает для MSE), а на самом деле для них все равно нужен свой процесс даже на уровне бизнеса, и из выборки их нужно было просто выкинуть\n",
    "\n",
    "Дорогие ML-специалисты, датасайентисты и прочие бигдата-аналитики! Вы никогда, никогда не продвинетесь карьерно, не заработаете столько денег и не принесёте столько пользы человечеству, сколько могли бы (если согласиться принять ту гипотезу, что ML для бизнеса приносит человечеству пользы), если будете считать все задачи, кроме первой, \"чужими\" или \"скучными\"!*"
   ]
  },
  {
   "cell_type": "markdown",
   "metadata": {
    "ExecuteTime": {
     "end_time": "2019-11-16T15:28:25.755022Z",
     "start_time": "2019-11-16T15:28:25.752914Z"
    }
   },
   "source": [
    "# Бонус-3: Дополнительные материалы"
   ]
  },
  {
   "cell_type": "markdown",
   "metadata": {},
   "source": [
    "* classical MNIST\n",
    "    * [kaggle](https://www.kaggle.com/c/digit-recognizer)\n",
    "    * [daily_mnist](https://vk.com/daily_mnist)\n",
    "* [Kannada](https://ru.wikipedia.org/wiki/%D0%9A%D0%B0%D0%BD%D0%BD%D0%B0%D0%B4%D0%B0) MNIST\n",
    "    * [kaggle](https://www.kaggle.com/c/Kannada-MNIST/overview)\n",
    "    * [github](https://github.com/vinayprabhu/Kannada_MNIST)\n",
    "    * [arxiv](https://arxiv.org/abs/1908.01242)\n",
    "* Machine Learning on Music\n",
    "    * [The Sound of AI](https://www.youtube.com/channel/UCZPFjMe1uRSirmSpznqvJfQ)\n",
    "    * [jnb base](https://musicinformationretrieval.com/index.html)\n",
    "    * [python libraries for audio processing](https://wiki.python.org/moin/Audio/)\n",
    "    * [MFCC lecture](http://www.speech.cs.cmu.edu/15-492/slides/03_mfcc.pdf)"
   ]
  },
  {
   "cell_type": "markdown",
   "metadata": {
    "ExecuteTime": {
     "end_time": "2019-11-19T10:35:05.994496Z",
     "start_time": "2019-11-19T10:35:05.991572Z"
    }
   },
   "source": [
    "# Бонус-4: track"
   ]
  },
  {
   "cell_type": "code",
   "execution_count": null,
   "metadata": {
    "ExecuteTime": {
     "end_time": "2020-11-24T10:33:13.359345Z",
     "start_time": "2020-11-24T10:33:13.356540Z"
    }
   },
   "outputs": [],
   "source": [
    "SR = 3000"
   ]
  },
  {
   "cell_type": "code",
   "execution_count": null,
   "metadata": {
    "ExecuteTime": {
     "end_time": "2020-11-24T10:33:13.903797Z",
     "start_time": "2020-11-24T10:33:13.897886Z"
    }
   },
   "outputs": [],
   "source": [
    "c = 261\n",
    "d = 294\n",
    "e = 329\n",
    "f = 349\n",
    "g = 391\n",
    "gS = 415\n",
    "a = 440\n",
    "aS = 455\n",
    "b = 466\n",
    "cH = 523\n",
    "cSH = 554\n",
    "dH = 587\n",
    "dSH = 622\n",
    "eH = 659\n",
    "fH = 698\n",
    "fSH = 740\n",
    "gH = 784\n",
    "gSH = 830\n",
    "aH = 880"
   ]
  },
  {
   "cell_type": "code",
   "execution_count": null,
   "metadata": {
    "ExecuteTime": {
     "end_time": "2020-11-24T10:33:14.532580Z",
     "start_time": "2020-11-24T10:33:14.528254Z"
    }
   },
   "outputs": [],
   "source": [
    "def beep(frequency, duration, SR=SR):\n",
    "    t = np.linspace(0, duration, int(duration * SR))\n",
    "    return np.sin(2 * np.pi * frequency * t)\n",
    "\n",
    "def delay(duration, SR=SR):\n",
    "    t = np.linspace(0, duration, int(duration * SR))\n",
    "    return np.zeros_like(t)"
   ]
  },
  {
   "cell_type": "code",
   "execution_count": null,
   "metadata": {
    "ExecuteTime": {
     "end_time": "2020-11-24T10:33:15.265636Z",
     "start_time": "2020-11-24T10:33:15.187693Z"
    }
   },
   "outputs": [],
   "source": [
    "composition = np.hstack((\n",
    "    beep(a, 0.500),\n",
    "    beep(a, 0.500),    \n",
    "    beep(a, 0.500),\n",
    "    beep(f, 0.350),\n",
    "    beep(cH, 0.150),  \n",
    "    beep(a, 0.500),\n",
    "    beep(f, 0.350),\n",
    "    beep(cH, 0.150),\n",
    "    beep(a, 0.650),\n",
    "    delay(0.500),\n",
    "    beep(eH, 0.500),\n",
    "    beep(eH, 0.500),\n",
    "    beep(eH, 0.500),  \n",
    "    beep(fH, 0.350),\n",
    "    beep(cH, 0.150),\n",
    "    beep(gS, 0.500),\n",
    "    beep(f, 0.350),\n",
    "    beep(cH, 0.150),\n",
    "    beep(a, 0.650),\n",
    "    beep(aH, 0.500),\n",
    "    beep(a, 0.300),\n",
    "    beep(a, 0.150),\n",
    "    beep(aH, 0.500),\n",
    "    beep(gSH, 0.325),\n",
    "    beep(gH, 0.175),\n",
    "    beep(fSH, 0.125),\n",
    "    beep(fH, 0.125),\n",
    "    beep(fSH, 0.250),\n",
    "    delay(0.325),\n",
    "    beep(aS, 0.250),\n",
    "    beep(dSH, 0.500),\n",
    "    beep(dH, 0.325), \n",
    "    beep(cSH, 0.175),\n",
    "    beep(cH, 0.125),\n",
    "    beep(b, 0.125),\n",
    "    beep(cH, 0.250),\n",
    "    delay(0.350),\n",
    "    beep(f, 0.250),\n",
    "    beep(gS, 0.500),\n",
    "    beep(f, 0.350),\n",
    "    beep(a, 0.125),\n",
    "    beep(cH, 0.500),\n",
    "    beep(a, 0.375),\n",
    "    beep(cH, 0.125),\n",
    "    beep(eH, 0.650),\n",
    "    \n",
    "#     beep(aH, 0.500),\n",
    "#     beep(a, 0.300),\n",
    "#     beep(a, 0.150),\n",
    "#     beep(aH, 0.500),\n",
    "#     beep(gSH, 0.325),\n",
    "#     beep(gH, 0.175),\n",
    "#     beep(fSH, 0.125),\n",
    "#     beep(fH, 0.125),\n",
    "#     beep(fSH, 0.250),\n",
    "#     delay(0.325),\n",
    "#     beep(aS, 0.250),\n",
    "#     beep(dSH, 0.500),\n",
    "#     beep(dH, 0.325), \n",
    "#     beep(cSH, 0.175),\n",
    "#     beep(cH, 0.125),\n",
    "#     beep(b, 0.125),\n",
    "#     beep(cH, 0.250),\n",
    "#     delay(0.350),\n",
    "#     beep(f, 0.250),\n",
    "#     beep(gS, 0.500),\n",
    "#     beep(f, 0.350),\n",
    "#     beep(a, 0.125),\n",
    "#     beep(cH, 0.500),\n",
    "#     beep(a, 0.375),\n",
    "#     beep(cH, 0.125),\n",
    "#     beep(eH, 0.650)\n",
    "))"
   ]
  },
  {
   "cell_type": "code",
   "execution_count": null,
   "metadata": {
    "ExecuteTime": {
     "end_time": "2020-11-24T10:33:16.112059Z",
     "start_time": "2020-11-24T10:33:16.068527Z"
    }
   },
   "outputs": [],
   "source": [
    "ipd.Audio(composition, rate=SR)"
   ]
  },
  {
   "cell_type": "code",
   "execution_count": null,
   "metadata": {
    "ExecuteTime": {
     "end_time": "2020-11-23T16:08:37.023380Z",
     "start_time": "2020-11-23T16:08:37.020137Z"
    }
   },
   "outputs": [],
   "source": [
    "scipy.io.wavfile.write(data=composition, rate=SR, filename=\"./imperial.wav\")"
   ]
  },
  {
   "cell_type": "markdown",
   "metadata": {},
   "source": [
    "# Пожалуйста, оставьте оценку и отзыв на портале 🙏"
   ]
  },
  {
   "cell_type": "markdown",
   "metadata": {},
   "source": [
    "Спасибо!"
   ]
  }
 ],
 "metadata": {
  "kernelspec": {
   "display_name": "Python 3",
   "language": "python",
   "name": "python3"
  },
  "language_info": {
   "codemirror_mode": {
    "name": "ipython",
    "version": 3
   },
   "file_extension": ".py",
   "mimetype": "text/x-python",
   "name": "python",
   "nbconvert_exporter": "python",
   "pygments_lexer": "ipython3",
   "version": "3.6.8"
  },
  "toc": {
   "base_numbering": "0",
   "nav_menu": {
    "height": "346px",
    "width": "417px"
   },
   "number_sections": true,
   "sideBar": true,
   "skip_h1_title": false,
   "title_cell": "Table of Contents",
   "title_sidebar": "Contents",
   "toc_cell": true,
   "toc_position": {
    "height": "386px",
    "left": "261px",
    "top": "133px",
    "width": "256px"
   },
   "toc_section_display": true,
   "toc_window_display": false
  }
 },
 "nbformat": 4,
 "nbformat_minor": 2
}
